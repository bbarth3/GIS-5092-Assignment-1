{
  "nbformat": 4,
  "nbformat_minor": 0,
  "metadata": {
    "colab": {
      "provenance": [],
      "collapsed_sections": []
    },
    "kernelspec": {
      "name": "python3",
      "display_name": "Python 3"
    },
    "language_info": {
      "name": "python"
    }
  },
  "cells": [
    {
      "cell_type": "markdown",
      "source": [
        "## Assignment 1 - Introduction to Python\n",
        "\n",
        "In this assignemnt you will experiment with arrays in Python, in addition to working with Python libraries. The first section of the assignment"
      ],
      "metadata": {
        "id": "oaZ3ZZKpY2oW"
      }
    },
    {
      "cell_type": "code",
      "execution_count": 1,
      "metadata": {
        "id": "Ap3l2tIbXieL"
      },
      "outputs": [],
      "source": [
        "#### Do NOT Modify This Cell !\n",
        "### Import the numpy library's random module as rand\n",
        "import numpy.random as rand\n",
        "rand.seed(0)"
      ]
    },
    {
      "cell_type": "code",
      "source": [
        "### TODO use the randint function in the random module to generate 100 numbers between 0 and 1000 (15 point)\n",
        "#### Hint: Run help(rand.randint) if you need to know how to use this function\n",
        "#### Hint2: Make sure to assign the function output to a variable, such as x\n",
        "\n",
        "mylist = []\n",
        "for y in range(0, 100):\n",
        "  x = rand.randint(0, 1000)\n",
        "  mylist.append(x)\n",
        "\n",
        "### TODO2: Print the random numbers (5 points)\n",
        "print(mylist)\n",
        "print(len(mylist))"
      ],
      "metadata": {
        "id": "GsgFinT5XwJm",
        "colab": {
          "base_uri": "https://localhost:8080/"
        },
        "outputId": "cbd793b3-36e2-4167-b4ff-40a2fd834fb3"
      },
      "execution_count": 2,
      "outputs": [
        {
          "output_type": "stream",
          "name": "stdout",
          "text": [
            "[684, 559, 629, 192, 835, 763, 707, 359, 9, 723, 277, 754, 804, 599, 70, 472, 600, 396, 314, 705, 486, 551, 87, 174, 600, 849, 677, 537, 845, 72, 777, 916, 115, 976, 755, 709, 847, 431, 448, 850, 99, 984, 177, 755, 797, 659, 147, 910, 423, 288, 961, 265, 697, 639, 544, 543, 714, 244, 151, 675, 510, 459, 882, 183, 28, 802, 128, 128, 932, 53, 901, 550, 488, 756, 273, 335, 388, 617, 42, 442, 543, 888, 257, 321, 999, 937, 57, 291, 870, 119, 779, 430, 82, 91, 896, 398, 611, 565, 908, 633]\n",
            "100\n"
          ]
        }
      ]
    },
    {
      "cell_type": "code",
      "source": [
        "### TODO Report All Unique Numbers (20 points)\n",
        "#### Import and Use Numpy's unique function\n",
        "import numpy as np\n",
        "np.unique(mylist)"
      ],
      "metadata": {
        "id": "Pfp_70alYbD0",
        "colab": {
          "base_uri": "https://localhost:8080/"
        },
        "outputId": "05bf5736-efac-4e9c-ad18-8c3ddeaabceb"
      },
      "execution_count": 3,
      "outputs": [
        {
          "output_type": "execute_result",
          "data": {
            "text/plain": [
              "array([  9,  28,  42,  53,  57,  70,  72,  82,  87,  91,  99, 115, 119,\n",
              "       128, 147, 151, 174, 177, 183, 192, 244, 257, 265, 273, 277, 288,\n",
              "       291, 314, 321, 335, 359, 388, 396, 398, 423, 430, 431, 442, 448,\n",
              "       459, 472, 486, 488, 510, 537, 543, 544, 550, 551, 559, 565, 599,\n",
              "       600, 611, 617, 629, 633, 639, 659, 675, 677, 684, 697, 705, 707,\n",
              "       709, 714, 723, 754, 755, 756, 763, 777, 779, 797, 802, 804, 835,\n",
              "       845, 847, 849, 850, 870, 882, 888, 896, 901, 908, 910, 916, 932,\n",
              "       937, 961, 976, 984, 999])"
            ]
          },
          "metadata": {},
          "execution_count": 3
        }
      ]
    },
    {
      "cell_type": "code",
      "source": [
        "### TODO Create function called lessThan500 that returns the number of entries less than 500 (20 points)\n",
        "### Below is the function definition\n",
        "\n",
        "def lessThan500(input):\n",
        "  entries = [z for z in mylist if z < 500]\n",
        "  return len(entries)\n",
        "\n",
        "### TODO2 Print Results (5 points)\n",
        "lessThan500(mylist)"
      ],
      "metadata": {
        "id": "2FkY2eV4Y0nv",
        "colab": {
          "base_uri": "https://localhost:8080/"
        },
        "outputId": "1d4210e8-685b-4074-8e65-aa4f70536855"
      },
      "execution_count": 4,
      "outputs": [
        {
          "output_type": "execute_result",
          "data": {
            "text/plain": [
              "44"
            ]
          },
          "metadata": {},
          "execution_count": 4
        }
      ]
    },
    {
      "cell_type": "code",
      "source": [
        "### TODO Implement Bubble Sort Algorithm that Sorts your Array in Ascending Order (30 points)\n",
        "### Hint: https://realpython.com/sorting-algorithms-python/#the-bubble-sort-algorithm-in-python\n",
        "### Link is for reference only. Code copied over will receive zero credit\n",
        "def bubbleSort(input):\n",
        "  num = len(input)\n",
        "  finished = False\n",
        "  while(finished == False):\n",
        "    finished = True\n",
        "    for x in range(num - 1):\n",
        "      if input[x] > input[x + 1]:\n",
        "        input[x], input[x + 1] = input[x + 1], input[x]\n",
        "        finished = False\n",
        "  return input\n",
        "\n",
        "### TODO2 Print Results (5 points)\n",
        "print(mylist)\n",
        "print(len(mylist))\n",
        "print(bubbleSort(mylist))\n"
      ],
      "metadata": {
        "id": "qbsYm0NlZwh2",
        "colab": {
          "base_uri": "https://localhost:8080/"
        },
        "outputId": "97970c72-3b0e-460c-bff1-7ceed10d39a4"
      },
      "execution_count": 5,
      "outputs": [
        {
          "output_type": "stream",
          "name": "stdout",
          "text": [
            "[684, 559, 629, 192, 835, 763, 707, 359, 9, 723, 277, 754, 804, 599, 70, 472, 600, 396, 314, 705, 486, 551, 87, 174, 600, 849, 677, 537, 845, 72, 777, 916, 115, 976, 755, 709, 847, 431, 448, 850, 99, 984, 177, 755, 797, 659, 147, 910, 423, 288, 961, 265, 697, 639, 544, 543, 714, 244, 151, 675, 510, 459, 882, 183, 28, 802, 128, 128, 932, 53, 901, 550, 488, 756, 273, 335, 388, 617, 42, 442, 543, 888, 257, 321, 999, 937, 57, 291, 870, 119, 779, 430, 82, 91, 896, 398, 611, 565, 908, 633]\n",
            "100\n",
            "[9, 28, 42, 53, 57, 70, 72, 82, 87, 91, 99, 115, 119, 128, 128, 147, 151, 174, 177, 183, 192, 244, 257, 265, 273, 277, 288, 291, 314, 321, 335, 359, 388, 396, 398, 423, 430, 431, 442, 448, 459, 472, 486, 488, 510, 537, 543, 543, 544, 550, 551, 559, 565, 599, 600, 600, 611, 617, 629, 633, 639, 659, 675, 677, 684, 697, 705, 707, 709, 714, 723, 754, 755, 755, 756, 763, 777, 779, 797, 802, 804, 835, 845, 847, 849, 850, 870, 882, 888, 896, 901, 908, 910, 916, 932, 937, 961, 976, 984, 999]\n"
          ]
        }
      ]
    }
  ]
}